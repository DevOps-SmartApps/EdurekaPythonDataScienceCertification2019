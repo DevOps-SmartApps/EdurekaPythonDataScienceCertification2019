{
 "cells": [
  {
   "cell_type": "markdown",
   "metadata": {},
   "source": [
    "# Types of Variables\n",
    "## Float \n",
    "## Integer \n",
    "## String \n",
    "## Boolean "
   ]
  },
  {
   "cell_type": "code",
   "execution_count": 1,
   "metadata": {},
   "outputs": [],
   "source": [
    "name = \"Edureka\""
   ]
  },
  {
   "cell_type": "code",
   "execution_count": 2,
   "metadata": {},
   "outputs": [
    {
     "data": {
      "text/plain": [
       "str"
      ]
     },
     "execution_count": 2,
     "metadata": {},
     "output_type": "execute_result"
    }
   ],
   "source": [
    "type(name)"
   ]
  },
  {
   "cell_type": "code",
   "execution_count": 3,
   "metadata": {},
   "outputs": [],
   "source": [
    "customer_name = \"Saihaj\""
   ]
  },
  {
   "cell_type": "code",
   "execution_count": 4,
   "metadata": {},
   "outputs": [],
   "source": [
    "order_id = \"ABC123\""
   ]
  },
  {
   "cell_type": "code",
   "execution_count": 5,
   "metadata": {},
   "outputs": [
    {
     "data": {
      "text/plain": [
       "'SaihajABC123'"
      ]
     },
     "execution_count": 5,
     "metadata": {},
     "output_type": "execute_result"
    }
   ],
   "source": [
    "customer_name + order_id"
   ]
  },
  {
   "cell_type": "markdown",
   "metadata": {},
   "source": [
    "# Loops"
   ]
  },
  {
   "cell_type": "markdown",
   "metadata": {},
   "source": [
    "#### FOR Loop Synatx in Python\n",
    "\n",
    "for condition:\n",
    "    statement1\n",
    "    statement2\n",
    "statement3"
   ]
  },
  {
   "cell_type": "code",
   "execution_count": 11,
   "metadata": {},
   "outputs": [
    {
     "name": "stdout",
     "output_type": "stream",
     "text": [
      "Hellow\n",
      "Hellow\n",
      "Hellow\n",
      "Hi\n"
     ]
    }
   ],
   "source": [
    "for i in range(0,3):\n",
    "    print('Hellow')\n",
    "print('Hi')"
   ]
  },
  {
   "cell_type": "code",
   "execution_count": 15,
   "metadata": {},
   "outputs": [
    {
     "data": {
      "text/plain": [
       "[0, 1, 2]"
      ]
     },
     "execution_count": 15,
     "metadata": {},
     "output_type": "execute_result"
    }
   ],
   "source": [
    "list(range(0,3))"
   ]
  },
  {
   "cell_type": "code",
   "execution_count": 17,
   "metadata": {},
   "outputs": [
    {
     "data": {
      "text/plain": [
       "[0, 2, 4, 6]"
      ]
     },
     "execution_count": 17,
     "metadata": {},
     "output_type": "execute_result"
    }
   ],
   "source": [
    "list(range(0,7,2))\n"
   ]
  },
  {
   "cell_type": "code",
   "execution_count": 19,
   "metadata": {},
   "outputs": [
    {
     "name": "stdout",
     "output_type": "stream",
     "text": [
      "hellow\n",
      "hi\n",
      "hellow\n",
      "hi\n",
      "hellow\n",
      "hi\n",
      "hellow\n",
      "hi\n",
      "Hope you will have great learning experience\n"
     ]
    }
   ],
   "source": [
    "for i in range(0,7,2):\n",
    "    print(\"hellow\")\n",
    "    print(\"hi\")\n",
    "print(\"Hope you will have great learning experience\")"
   ]
  },
  {
   "cell_type": "code",
   "execution_count": 20,
   "metadata": {},
   "outputs": [],
   "source": [
    "mylist= [10 , 1110, 110, 10101]"
   ]
  },
  {
   "cell_type": "code",
   "execution_count": 21,
   "metadata": {},
   "outputs": [
    {
     "data": {
      "text/plain": [
       "[10, 1110, 110, 10101]"
      ]
     },
     "execution_count": 21,
     "metadata": {},
     "output_type": "execute_result"
    }
   ],
   "source": [
    "mylist"
   ]
  },
  {
   "cell_type": "code",
   "execution_count": 23,
   "metadata": {},
   "outputs": [
    {
     "name": "stdout",
     "output_type": "stream",
     "text": [
      "Hellow , 10\n",
      "Hellow , 1110\n",
      "Hellow , 110\n",
      "Hellow , 10101\n"
     ]
    }
   ],
   "source": [
    "#Using a custom made list\n",
    "    #This loop will print: \"MESSAGE\",\"LIST NUMBER\"\n",
    "for i in mylist:\n",
    "    print(\"Hellow\", \",\", i)"
   ]
  },
  {
   "cell_type": "code",
   "execution_count": 24,
   "metadata": {},
   "outputs": [],
   "source": [
    "customer_list = ['Ruby', 'John', 'Andrew', 'James']\n",
    "order_id = ['ABC123', 'BCC321', 'XYZ123', 'PQR234']"
   ]
  },
  {
   "cell_type": "code",
   "execution_count": 25,
   "metadata": {},
   "outputs": [
    {
     "data": {
      "text/plain": [
       "['Ruby', 'John', 'Andrew', 'James']"
      ]
     },
     "execution_count": 25,
     "metadata": {},
     "output_type": "execute_result"
    }
   ],
   "source": [
    "customer_list"
   ]
  },
  {
   "cell_type": "code",
   "execution_count": 26,
   "metadata": {},
   "outputs": [
    {
     "data": {
      "text/plain": [
       "['ABC123', 'BCC321', 'XYZ123', 'PQR234']"
      ]
     },
     "execution_count": 26,
     "metadata": {},
     "output_type": "execute_result"
    }
   ],
   "source": [
    "order_id"
   ]
  },
  {
   "cell_type": "code",
   "execution_count": 33,
   "metadata": {},
   "outputs": [
    {
     "name": "stdout",
     "output_type": "stream",
     "text": [
      "Hello Ruby , Yoour order ID is:  ABC123\n",
      "Hello John , Yoour order ID is:  BCC321\n",
      "Hello Andrew , Yoour order ID is:  XYZ123\n",
      "Hello James , Yoour order ID is:  PQR234\n"
     ]
    }
   ],
   "source": [
    "import itertools\n",
    "for (c,o) in zip(customer_list,order_id):\n",
    "    print(\"Hello\",c,\",\",\"Yoour order ID is: \",o)"
   ]
  },
  {
   "cell_type": "markdown",
   "metadata": {},
   "source": [
    "####  WHILE Loop python syntax\n",
    "while condition:\n",
    "     statement1\n",
    "     statement2\n",
    "statement3"
   ]
  },
  {
   "cell_type": "code",
   "execution_count": 38,
   "metadata": {},
   "outputs": [
    {
     "name": "stdout",
     "output_type": "stream",
     "text": [
      "Hi\n"
     ]
    }
   ],
   "source": [
    "while False:\n",
    "    print('Hello')\n",
    "print('Hi')"
   ]
  },
  {
   "cell_type": "code",
   "execution_count": null,
   "metadata": {},
   "outputs": [],
   "source": [
    "#Infinite Loop\n",
    "while True:\n",
    "    print('Hi')\n",
    "print('Hello')"
   ]
  },
  {
   "cell_type": "code",
   "execution_count": 45,
   "metadata": {},
   "outputs": [
    {
     "name": "stdout",
     "output_type": "stream",
     "text": [
      "0\n",
      "1\n",
      "2\n",
      "3\n",
      "4\n",
      "5\n",
      "6\n",
      "7\n",
      "8\n",
      "9\n",
      "10\n",
      "11\n",
      "Its the end of the loop\n"
     ]
    }
   ],
   "source": [
    "counter=0\n",
    "while counter<12:\n",
    "    print(counter)\n",
    "    counter=counter+1\n",
    "print('Its the end of the loop')"
   ]
  },
  {
   "cell_type": "code",
   "execution_count": 56,
   "metadata": {},
   "outputs": [
    {
     "name": "stdout",
     "output_type": "stream",
     "text": [
      "Total Quantity left is: 99\n",
      "Total Quantity left is: 98\n",
      "Total Quantity left is: 97\n",
      "Total Quantity left is: 96\n",
      "Total Quantity left is: 95\n",
      "Total Quantity left is: 94\n",
      "Total Quantity left is: 93\n",
      "Total Quantity left is: 92\n",
      "Total Quantity left is: 91\n",
      "Total Quantity left is: 90\n",
      "Total Quantity left is: 89\n",
      "Total Quantity left is: 88\n",
      "Total Quantity left is: 87\n",
      "Total Quantity left is: 86\n",
      "Total Quantity left is: 85\n",
      "Total Quantity left is: 84\n",
      "Total Quantity left is: 83\n",
      "Total Quantity left is: 82\n",
      "Total Quantity left is: 81\n",
      "Total Quantity left is: 80\n",
      "Total Quantity left is: 79\n",
      "Total Quantity left is: 78\n",
      "Total Quantity left is: 77\n",
      "Total Quantity left is: 76\n",
      "Total Quantity left is: 75\n",
      "Total Quantity left is: 74\n",
      "Total Quantity left is: 73\n",
      "Total Quantity left is: 72\n",
      "Total Quantity left is: 71\n",
      "Total Quantity left is: 70\n",
      "Total Quantity left is: 69\n",
      "Total Quantity left is: 68\n",
      "Total Quantity left is: 67\n",
      "Total Quantity left is: 66\n",
      "Total Quantity left is: 65\n",
      "Total Quantity left is: 64\n",
      "Total Quantity left is: 63\n",
      "Total Quantity left is: 62\n",
      "Total Quantity left is: 61\n",
      "Total Quantity left is: 60\n",
      "Total Quantity left is: 59\n",
      "Total Quantity left is: 58\n",
      "Total Quantity left is: 57\n",
      "Total Quantity left is: 56\n",
      "Total Quantity left is: 55\n",
      "Total Quantity left is: 54\n",
      "Total Quantity left is: 53\n",
      "Total Quantity left is: 52\n",
      "Total Quantity left is: 51\n",
      "Total Quantity left is: 50\n",
      "Total Quantity left is: 49\n",
      "Total Quantity left is: 48\n",
      "Total Quantity left is: 47\n",
      "Total Quantity left is: 46\n",
      "Total Quantity left is: 45\n",
      "Total Quantity left is: 44\n",
      "Total Quantity left is: 43\n",
      "Total Quantity left is: 42\n",
      "Total Quantity left is: 41\n",
      "Total Quantity left is: 40\n",
      "Total Quantity left is: 39\n",
      "Total Quantity left is: 38\n",
      "Total Quantity left is: 37\n",
      "Total Quantity left is: 36\n",
      "Total Quantity left is: 35\n",
      "Total Quantity left is: 34\n",
      "Total Quantity left is: 33\n",
      "Total Quantity left is: 32\n",
      "Total Quantity left is: 31\n",
      "Total Quantity left is: 30\n",
      "Total Quantity left is: 29\n",
      "Total Quantity left is: 28\n",
      "Total Quantity left is: 27\n",
      "Total Quantity left is: 26\n",
      "Total Quantity left is: 25\n",
      "Total Quantity left is: 24\n",
      "Total Quantity left is: 23\n",
      "Total Quantity left is: 22\n",
      "Total Quantity left is: 21\n",
      "Total Quantity left is: 20\n",
      "Total Quantity left is: 19\n",
      "Total Quantity left is: 18\n",
      "Total Quantity left is: 17\n",
      "Total Quantity left is: 16\n",
      "Total Quantity left is: 15\n",
      "Total Quantity left is: 14\n",
      "Total Quantity left is: 13\n",
      "Total Quantity left is: 12\n",
      "Total Quantity left is: 11\n",
      "Total Quantity left is: 10\n",
      "Total Quantity left is: 9\n",
      "Total Quantity left is: 8\n",
      "Total Quantity left is: 7\n",
      "Total Quantity left is: 6\n",
      "Total Quantity left is: 5\n",
      "Total Quantity left is: 4\n",
      "Total Quantity left is: 3\n",
      "Total Quantity left is: 2\n",
      "Total Quantity left is: 1\n",
      "Total Quantity left is: 0\n",
      "Total Quantity left is: -1\n",
      "No quantity available\n"
     ]
    }
   ],
   "source": [
    "total_quantity=100\n",
    "quantity = 0\n",
    "while quantity<101:\n",
    "    quantity=quantity+1\n",
    "    print(\"Total Quantity left is:\"+ \" \" + str(total_quantity-quantity))\n",
    "print(\"No quantity available\")"
   ]
  },
  {
   "cell_type": "markdown",
   "metadata": {},
   "source": [
    "# IF/ELSE Statements"
   ]
  },
  {
   "cell_type": "code",
   "execution_count": 57,
   "metadata": {},
   "outputs": [],
   "source": [
    "import numpy as np\n",
    "from numpy.random import randn\n",
    "#randn generates a number between (-3,3)"
   ]
  },
  {
   "cell_type": "code",
   "execution_count": 77,
   "metadata": {},
   "outputs": [
    {
     "data": {
      "text/plain": [
       "0.193563050845017"
      ]
     },
     "execution_count": 77,
     "metadata": {},
     "output_type": "execute_result"
    }
   ],
   "source": [
    "# Generates a random number using randn\n",
    "randn()"
   ]
  },
  {
   "cell_type": "code",
   "execution_count": 87,
   "metadata": {},
   "outputs": [
    {
     "name": "stdout",
     "output_type": "stream",
     "text": [
      "-2.3666194090657884\n",
      "None\n"
     ]
    }
   ],
   "source": [
    "x = randn()\n",
    "answer = None\n",
    "if x>1:\n",
    "    answer = \"Greater than 1\"\n",
    "print(x)\n",
    "print(answer)"
   ]
  },
  {
   "cell_type": "code",
   "execution_count": 89,
   "metadata": {},
   "outputs": [
    {
     "name": "stdout",
     "output_type": "stream",
     "text": [
      "-2.3666194090657884\n",
      "Less than 1\n"
     ]
    }
   ],
   "source": [
    "if x>1:\n",
    "    answer= \"Greater than 1\"\n",
    "else:\n",
    "    if x>=-1 and x<1:\n",
    "        answer = 'Between -1 and 1'\n",
    "    else:\n",
    "        answer = \"Less than 1\"\n",
    "print(x)\n",
    "print(answer)"
   ]
  },
  {
   "cell_type": "code",
   "execution_count": 96,
   "metadata": {},
   "outputs": [
    {
     "name": "stdout",
     "output_type": "stream",
     "text": [
      "-1.1338283761557515\n",
      "Less than 1\n"
     ]
    }
   ],
   "source": [
    "x = randn()\n",
    "answer = None\n",
    "if x>1:\n",
    "    answer = \"Greater than 1\"\n",
    "elif x>-1 and x<1:\n",
    "    answer = \"Between -1 and 1\"\n",
    "else:\n",
    "    answer=\"Less than 1\"\n",
    "print(x)\n",
    "print(answer)"
   ]
  }
 ],
 "metadata": {
  "kernelspec": {
   "display_name": "Python 3",
   "language": "python",
   "name": "python3"
  },
  "language_info": {
   "codemirror_mode": {
    "name": "ipython",
    "version": 3
   },
   "file_extension": ".py",
   "mimetype": "text/x-python",
   "name": "python",
   "nbconvert_exporter": "python",
   "pygments_lexer": "ipython3",
   "version": "3.7.3"
  }
 },
 "nbformat": 4,
 "nbformat_minor": 2
}
