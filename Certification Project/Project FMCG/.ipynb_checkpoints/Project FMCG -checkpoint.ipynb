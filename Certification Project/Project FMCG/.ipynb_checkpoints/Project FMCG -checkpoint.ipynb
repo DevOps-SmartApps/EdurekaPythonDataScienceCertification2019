{
 "cells": [
  {
   "cell_type": "code",
   "execution_count": 224,
   "metadata": {},
   "outputs": [],
   "source": [
    "import numpy as np \n",
    "import pandas as pd"
   ]
  },
  {
   "cell_type": "code",
   "execution_count": 225,
   "metadata": {},
   "outputs": [],
   "source": [
    "#Read CSV\n",
    "dataset = pd.read_csv('Project_Data_1.csv')"
   ]
  },
  {
   "cell_type": "code",
   "execution_count": 226,
   "metadata": {},
   "outputs": [
    {
     "data": {
      "text/plain": [
       "Sales of Wheat in tons    0\n",
       "1990                      0\n",
       "1991                      0\n",
       "1992                      0\n",
       "1993                      0\n",
       "1994                      0\n",
       "1995                      0\n",
       "1996                      0\n",
       "1997                      0\n",
       "1998                      0\n",
       "1999                      0\n",
       "2000                      0\n",
       "2001                      0\n",
       "2002                      0\n",
       "2003                      0\n",
       "2004                      0\n",
       "2005                      0\n",
       "2006                      0\n",
       "2007                      0\n",
       "dtype: int64"
      ]
     },
     "execution_count": 226,
     "metadata": {},
     "output_type": "execute_result"
    }
   ],
   "source": [
    "#Check for null values\n",
    "dataset.isnull().sum()"
   ]
  },
  {
   "cell_type": "code",
   "execution_count": 227,
   "metadata": {},
   "outputs": [],
   "source": [
    "#Rename header\n",
    "dataset = dataset.rename(columns={'Sales of Wheat in tons':'Country'})"
   ]
  },
  {
   "cell_type": "code",
   "execution_count": 228,
   "metadata": {},
   "outputs": [
    {
     "data": {
      "text/html": [
       "<div>\n",
       "<style scoped>\n",
       "    .dataframe tbody tr th:only-of-type {\n",
       "        vertical-align: middle;\n",
       "    }\n",
       "\n",
       "    .dataframe tbody tr th {\n",
       "        vertical-align: top;\n",
       "    }\n",
       "\n",
       "    .dataframe thead th {\n",
       "        text-align: right;\n",
       "    }\n",
       "</style>\n",
       "<table border=\"1\" class=\"dataframe\">\n",
       "  <thead>\n",
       "    <tr style=\"text-align: right;\">\n",
       "      <th></th>\n",
       "      <th>Country</th>\n",
       "      <th>1990</th>\n",
       "      <th>1991</th>\n",
       "      <th>1992</th>\n",
       "      <th>1993</th>\n",
       "      <th>1994</th>\n",
       "      <th>1995</th>\n",
       "      <th>1996</th>\n",
       "      <th>1997</th>\n",
       "      <th>1998</th>\n",
       "      <th>1999</th>\n",
       "      <th>2000</th>\n",
       "      <th>2001</th>\n",
       "      <th>2002</th>\n",
       "      <th>2003</th>\n",
       "      <th>2004</th>\n",
       "      <th>2005</th>\n",
       "      <th>2006</th>\n",
       "      <th>2007</th>\n",
       "    </tr>\n",
       "  </thead>\n",
       "  <tbody>\n",
       "    <tr>\n",
       "      <th>0</th>\n",
       "      <td>Afghanistan</td>\n",
       "      <td>436</td>\n",
       "      <td>429</td>\n",
       "      <td>422</td>\n",
       "      <td>415</td>\n",
       "      <td>407</td>\n",
       "      <td>397</td>\n",
       "      <td>397</td>\n",
       "      <td>387</td>\n",
       "      <td>374</td>\n",
       "      <td>373</td>\n",
       "      <td>346</td>\n",
       "      <td>326</td>\n",
       "      <td>304</td>\n",
       "      <td>308</td>\n",
       "      <td>283</td>\n",
       "      <td>267</td>\n",
       "      <td>251</td>\n",
       "      <td>238</td>\n",
       "    </tr>\n",
       "    <tr>\n",
       "      <th>1</th>\n",
       "      <td>Albania</td>\n",
       "      <td>42</td>\n",
       "      <td>40</td>\n",
       "      <td>41</td>\n",
       "      <td>42</td>\n",
       "      <td>42</td>\n",
       "      <td>43</td>\n",
       "      <td>42</td>\n",
       "      <td>44</td>\n",
       "      <td>43</td>\n",
       "      <td>42</td>\n",
       "      <td>40</td>\n",
       "      <td>34</td>\n",
       "      <td>32</td>\n",
       "      <td>32</td>\n",
       "      <td>29</td>\n",
       "      <td>29</td>\n",
       "      <td>26</td>\n",
       "      <td>22</td>\n",
       "    </tr>\n",
       "    <tr>\n",
       "      <th>2</th>\n",
       "      <td>Algeria</td>\n",
       "      <td>45</td>\n",
       "      <td>44</td>\n",
       "      <td>44</td>\n",
       "      <td>43</td>\n",
       "      <td>43</td>\n",
       "      <td>42</td>\n",
       "      <td>43</td>\n",
       "      <td>44</td>\n",
       "      <td>45</td>\n",
       "      <td>46</td>\n",
       "      <td>48</td>\n",
       "      <td>49</td>\n",
       "      <td>50</td>\n",
       "      <td>51</td>\n",
       "      <td>52</td>\n",
       "      <td>53</td>\n",
       "      <td>55</td>\n",
       "      <td>56</td>\n",
       "    </tr>\n",
       "    <tr>\n",
       "      <th>3</th>\n",
       "      <td>American Samoa</td>\n",
       "      <td>42</td>\n",
       "      <td>14</td>\n",
       "      <td>4</td>\n",
       "      <td>18</td>\n",
       "      <td>17</td>\n",
       "      <td>22</td>\n",
       "      <td>0</td>\n",
       "      <td>25</td>\n",
       "      <td>12</td>\n",
       "      <td>8</td>\n",
       "      <td>8</td>\n",
       "      <td>6</td>\n",
       "      <td>5</td>\n",
       "      <td>6</td>\n",
       "      <td>9</td>\n",
       "      <td>11</td>\n",
       "      <td>9</td>\n",
       "      <td>5</td>\n",
       "    </tr>\n",
       "    <tr>\n",
       "      <th>4</th>\n",
       "      <td>Andorra</td>\n",
       "      <td>39</td>\n",
       "      <td>37</td>\n",
       "      <td>35</td>\n",
       "      <td>33</td>\n",
       "      <td>32</td>\n",
       "      <td>30</td>\n",
       "      <td>28</td>\n",
       "      <td>23</td>\n",
       "      <td>24</td>\n",
       "      <td>22</td>\n",
       "      <td>20</td>\n",
       "      <td>20</td>\n",
       "      <td>21</td>\n",
       "      <td>18</td>\n",
       "      <td>19</td>\n",
       "      <td>18</td>\n",
       "      <td>17</td>\n",
       "      <td>19</td>\n",
       "    </tr>\n",
       "  </tbody>\n",
       "</table>\n",
       "</div>"
      ],
      "text/plain": [
       "          Country 1990 1991 1992 1993 1994 1995  1996  1997  1998  1999  2000  \\\n",
       "0     Afghanistan  436  429  422  415  407  397   397   387   374   373   346   \n",
       "1         Albania   42   40   41   42   42   43    42    44    43    42    40   \n",
       "2         Algeria   45   44   44   43   43   42    43    44    45    46    48   \n",
       "3  American Samoa   42   14    4   18   17   22     0    25    12     8     8   \n",
       "4         Andorra   39   37   35   33   32   30    28    23    24    22    20   \n",
       "\n",
       "   2001  2002  2003 2004 2005 2006 2007  \n",
       "0   326   304   308  283  267  251  238  \n",
       "1    34    32    32   29   29   26   22  \n",
       "2    49    50    51   52   53   55   56  \n",
       "3     6     5     6    9   11    9    5  \n",
       "4    20    21    18   19   18   17   19  "
      ]
     },
     "execution_count": 228,
     "metadata": {},
     "output_type": "execute_result"
    }
   ],
   "source": [
    "dataset.head()"
   ]
  },
  {
   "cell_type": "code",
   "execution_count": 229,
   "metadata": {},
   "outputs": [
    {
     "data": {
      "text/plain": [
       "Country    object\n",
       "1990       object\n",
       "1991       object\n",
       "1992       object\n",
       "1993       object\n",
       "1994       object\n",
       "1995       object\n",
       "1996        int64\n",
       "1997        int64\n",
       "1998        int64\n",
       "1999        int64\n",
       "2000        int64\n",
       "2001        int64\n",
       "2002        int64\n",
       "2003        int64\n",
       "2004       object\n",
       "2005       object\n",
       "2006       object\n",
       "2007       object\n",
       "dtype: object"
      ]
     },
     "execution_count": 229,
     "metadata": {},
     "output_type": "execute_result"
    }
   ],
   "source": [
    "#Check DType\n",
    "dataset.dtypes"
   ]
  },
  {
   "cell_type": "code",
   "execution_count": 230,
   "metadata": {},
   "outputs": [],
   "source": [
    "#Change Data Types to int \n",
    "dataset.iloc[:,1:] = dataset.iloc[:,1:].replace(\",\",\"\", regex=True).astype('int64')"
   ]
  },
  {
   "cell_type": "code",
   "execution_count": 231,
   "metadata": {},
   "outputs": [
    {
     "data": {
      "text/plain": [
       "Country    object\n",
       "1990        int64\n",
       "1991        int64\n",
       "1992        int64\n",
       "1993        int64\n",
       "1994        int64\n",
       "1995        int64\n",
       "1996        int64\n",
       "1997        int64\n",
       "1998        int64\n",
       "1999        int64\n",
       "2000        int64\n",
       "2001        int64\n",
       "2002        int64\n",
       "2003        int64\n",
       "2004        int64\n",
       "2005        int64\n",
       "2006        int64\n",
       "2007        int64\n",
       "dtype: object"
      ]
     },
     "execution_count": 231,
     "metadata": {},
     "output_type": "execute_result"
    }
   ],
   "source": [
    "#Check DType\n",
    "dataset.dtypes"
   ]
  },
  {
   "cell_type": "code",
   "execution_count": 232,
   "metadata": {},
   "outputs": [],
   "source": [
    "#select x-vlaues\n",
    "x = dataset.iloc[:,1:].values"
   ]
  },
  {
   "cell_type": "markdown",
   "metadata": {},
   "source": [
    "K-Means"
   ]
  },
  {
   "cell_type": "code",
   "execution_count": 233,
   "metadata": {},
   "outputs": [
    {
     "data": {
      "text/plain": [
       "[<matplotlib.lines.Line2D at 0x1a2a8042e8>]"
      ]
     },
     "execution_count": 233,
     "metadata": {},
     "output_type": "execute_result"
    },
    {
     "data": {
      "image/png": "[encoded data removed]",
      "text/plain": [
       "<Figure size 432x288 with 1 Axes>"
      ]
     },
     "metadata": {
      "needs_background": "light"
     },
     "output_type": "display_data"
    }
   ],
   "source": [
    "from sklearn.cluster import KMeans\n",
    "wcss = []\n",
    "for i in range(1,10):\n",
    "    kmeans = KMeans(n_clusters=i, init = 'k-means++')\n",
    "    kmeans.fit(x)\n",
    "    wcss.append(kmeans.inertia_)\n",
    "plt.plot(range(1,10),wcss)"
   ]
  },
  {
   "cell_type": "code",
   "execution_count": 234,
   "metadata": {},
   "outputs": [],
   "source": [
    "kmeans = KMeans(n_clusters=3, init = 'k-means++')\n",
    "y_kmeans = kmeans.fit_predict(x)"
   ]
  },
  {
   "cell_type": "code",
   "execution_count": 235,
   "metadata": {},
   "outputs": [],
   "source": [
    "dataset = pd.concat([dataset,pd.DataFrame(y_kmeans)],axis=1)\n",
    "dataset = dataset.rename(columns={0:'K-Mean Cluster Number'})"
   ]
  },
  {
   "cell_type": "code",
   "execution_count": 236,
   "metadata": {},
   "outputs": [
    {
     "data": {
      "text/html": [
       "<div>\n",
       "<style scoped>\n",
       "    .dataframe tbody tr th:only-of-type {\n",
       "        vertical-align: middle;\n",
       "    }\n",
       "\n",
       "    .dataframe tbody tr th {\n",
       "        vertical-align: top;\n",
       "    }\n",
       "\n",
       "    .dataframe thead th {\n",
       "        text-align: right;\n",
       "    }\n",
       "</style>\n",
       "<table border=\"1\" class=\"dataframe\">\n",
       "  <thead>\n",
       "    <tr style=\"text-align: right;\">\n",
       "      <th></th>\n",
       "      <th>Country</th>\n",
       "      <th>1990</th>\n",
       "      <th>1991</th>\n",
       "      <th>1992</th>\n",
       "      <th>1993</th>\n",
       "      <th>1994</th>\n",
       "      <th>1995</th>\n",
       "      <th>1996</th>\n",
       "      <th>1997</th>\n",
       "      <th>1998</th>\n",
       "      <th>1999</th>\n",
       "      <th>2000</th>\n",
       "      <th>2001</th>\n",
       "      <th>2002</th>\n",
       "      <th>2003</th>\n",
       "      <th>2004</th>\n",
       "      <th>2005</th>\n",
       "      <th>2006</th>\n",
       "      <th>2007</th>\n",
       "      <th>K-Mean Cluster Number</th>\n",
       "    </tr>\n",
       "  </thead>\n",
       "  <tbody>\n",
       "    <tr>\n",
       "      <th>0</th>\n",
       "      <td>Afghanistan</td>\n",
       "      <td>436</td>\n",
       "      <td>429</td>\n",
       "      <td>422</td>\n",
       "      <td>415</td>\n",
       "      <td>407</td>\n",
       "      <td>397</td>\n",
       "      <td>397</td>\n",
       "      <td>387</td>\n",
       "      <td>374</td>\n",
       "      <td>373</td>\n",
       "      <td>346</td>\n",
       "      <td>326</td>\n",
       "      <td>304</td>\n",
       "      <td>308</td>\n",
       "      <td>283</td>\n",
       "      <td>267</td>\n",
       "      <td>251</td>\n",
       "      <td>238</td>\n",
       "      <td>2</td>\n",
       "    </tr>\n",
       "    <tr>\n",
       "      <th>1</th>\n",
       "      <td>Albania</td>\n",
       "      <td>42</td>\n",
       "      <td>40</td>\n",
       "      <td>41</td>\n",
       "      <td>42</td>\n",
       "      <td>42</td>\n",
       "      <td>43</td>\n",
       "      <td>42</td>\n",
       "      <td>44</td>\n",
       "      <td>43</td>\n",
       "      <td>42</td>\n",
       "      <td>40</td>\n",
       "      <td>34</td>\n",
       "      <td>32</td>\n",
       "      <td>32</td>\n",
       "      <td>29</td>\n",
       "      <td>29</td>\n",
       "      <td>26</td>\n",
       "      <td>22</td>\n",
       "      <td>0</td>\n",
       "    </tr>\n",
       "    <tr>\n",
       "      <th>2</th>\n",
       "      <td>Algeria</td>\n",
       "      <td>45</td>\n",
       "      <td>44</td>\n",
       "      <td>44</td>\n",
       "      <td>43</td>\n",
       "      <td>43</td>\n",
       "      <td>42</td>\n",
       "      <td>43</td>\n",
       "      <td>44</td>\n",
       "      <td>45</td>\n",
       "      <td>46</td>\n",
       "      <td>48</td>\n",
       "      <td>49</td>\n",
       "      <td>50</td>\n",
       "      <td>51</td>\n",
       "      <td>52</td>\n",
       "      <td>53</td>\n",
       "      <td>55</td>\n",
       "      <td>56</td>\n",
       "      <td>0</td>\n",
       "    </tr>\n",
       "    <tr>\n",
       "      <th>3</th>\n",
       "      <td>American Samoa</td>\n",
       "      <td>42</td>\n",
       "      <td>14</td>\n",
       "      <td>4</td>\n",
       "      <td>18</td>\n",
       "      <td>17</td>\n",
       "      <td>22</td>\n",
       "      <td>0</td>\n",
       "      <td>25</td>\n",
       "      <td>12</td>\n",
       "      <td>8</td>\n",
       "      <td>8</td>\n",
       "      <td>6</td>\n",
       "      <td>5</td>\n",
       "      <td>6</td>\n",
       "      <td>9</td>\n",
       "      <td>11</td>\n",
       "      <td>9</td>\n",
       "      <td>5</td>\n",
       "      <td>0</td>\n",
       "    </tr>\n",
       "    <tr>\n",
       "      <th>4</th>\n",
       "      <td>Andorra</td>\n",
       "      <td>39</td>\n",
       "      <td>37</td>\n",
       "      <td>35</td>\n",
       "      <td>33</td>\n",
       "      <td>32</td>\n",
       "      <td>30</td>\n",
       "      <td>28</td>\n",
       "      <td>23</td>\n",
       "      <td>24</td>\n",
       "      <td>22</td>\n",
       "      <td>20</td>\n",
       "      <td>20</td>\n",
       "      <td>21</td>\n",
       "      <td>18</td>\n",
       "      <td>19</td>\n",
       "      <td>18</td>\n",
       "      <td>17</td>\n",
       "      <td>19</td>\n",
       "      <td>0</td>\n",
       "    </tr>\n",
       "  </tbody>\n",
       "</table>\n",
       "</div>"
      ],
      "text/plain": [
       "          Country  1990  1991  1992  1993  1994  1995  1996  1997  1998  1999  \\\n",
       "0     Afghanistan   436   429   422   415   407   397   397   387   374   373   \n",
       "1         Albania    42    40    41    42    42    43    42    44    43    42   \n",
       "2         Algeria    45    44    44    43    43    42    43    44    45    46   \n",
       "3  American Samoa    42    14     4    18    17    22     0    25    12     8   \n",
       "4         Andorra    39    37    35    33    32    30    28    23    24    22   \n",
       "\n",
       "   2000  2001  2002  2003  2004  2005  2006  2007  K-Mean Cluster Number  \n",
       "0   346   326   304   308   283   267   251   238                      2  \n",
       "1    40    34    32    32    29    29    26    22                      0  \n",
       "2    48    49    50    51    52    53    55    56                      0  \n",
       "3     8     6     5     6     9    11     9     5                      0  \n",
       "4    20    20    21    18    19    18    17    19                      0  "
      ]
     },
     "execution_count": 236,
     "metadata": {},
     "output_type": "execute_result"
    }
   ],
   "source": [
    "dataset.head()"
   ]
  },
  {
   "cell_type": "code",
   "execution_count": 237,
   "metadata": {},
   "outputs": [
    {
     "data": {
      "text/plain": [
       "<matplotlib.collections.PathCollection at 0x1a2a8df240>"
      ]
     },
     "execution_count": 237,
     "metadata": {},
     "output_type": "execute_result"
    },
    {
     "data": {
      "image/png": "[encoded data removed]",
      "text/plain": [
       "<Figure size 432x288 with 1 Axes>"
      ]
     },
     "metadata": {
      "needs_background": "light"
     },
     "output_type": "display_data"
    }
   ],
   "source": [
    "plt.scatter(x[y_kmeans==0,0], x[y_kmeans==0,1], s=100, c='red', label='Cluster1')\n",
    "plt.scatter(x[y_kmeans==1,0], x[y_kmeans==1,1], s=100, c='blue', label='Cluster2')\n",
    "plt.scatter(x[y_kmeans==2,0], x[y_kmeans==2,1], s=100, c='green', label='Cluster3')"
   ]
  },
  {
   "cell_type": "markdown",
   "metadata": {},
   "source": [
    "Hierarchical Clusetering "
   ]
  },
  {
   "cell_type": "code",
   "execution_count": 238,
   "metadata": {},
   "outputs": [
    {
     "data": {
      "text/plain": [
       "Text(0, 0.5, 'Euclidean Distance')"
      ]
     },
     "execution_count": 238,
     "metadata": {},
     "output_type": "execute_result"
    },
    {
     "data": {
      "image/png": "[encoded data removed]",
      "text/plain": [
       "<Figure size 432x288 with 1 Axes>"
      ]
     },
     "metadata": {
      "needs_background": "light"
     },
     "output_type": "display_data"
    }
   ],
   "source": [
    "import scipy.cluster.hierarchy as sch\n",
    "dendrogram = sch.dendrogram(sch.linkage(x, method='ward'))\n",
    "plt.title('Dendrogram')\n",
    "plt.xlabel('Sales')\n",
    "plt.ylabel('Euclidean Distance')"
   ]
  },
  {
   "cell_type": "code",
   "execution_count": 239,
   "metadata": {},
   "outputs": [],
   "source": [
    "from sklearn.cluster import AgglomerativeClustering\n",
    "hc = AgglomerativeClustering(n_clusters=2, affinity='euclidean', linkage='ward')\n",
    "y_hc = hc.fit_predict(x)"
   ]
  },
  {
   "cell_type": "code",
   "execution_count": 240,
   "metadata": {},
   "outputs": [],
   "source": [
    "dataset = pd.concat([dataset,pd.DataFrame(y_hc)],axis=1)\n",
    "dataset = dataset.rename(columns={0:'Hierarchical Cluster Number'})"
   ]
  },
  {
   "cell_type": "code",
   "execution_count": 241,
   "metadata": {},
   "outputs": [
    {
     "data": {
      "text/html": [
       "<div>\n",
       "<style scoped>\n",
       "    .dataframe tbody tr th:only-of-type {\n",
       "        vertical-align: middle;\n",
       "    }\n",
       "\n",
       "    .dataframe tbody tr th {\n",
       "        vertical-align: top;\n",
       "    }\n",
       "\n",
       "    .dataframe thead th {\n",
       "        text-align: right;\n",
       "    }\n",
       "</style>\n",
       "<table border=\"1\" class=\"dataframe\">\n",
       "  <thead>\n",
       "    <tr style=\"text-align: right;\">\n",
       "      <th></th>\n",
       "      <th>Country</th>\n",
       "      <th>1990</th>\n",
       "      <th>1991</th>\n",
       "      <th>1992</th>\n",
       "      <th>1993</th>\n",
       "      <th>1994</th>\n",
       "      <th>1995</th>\n",
       "      <th>1996</th>\n",
       "      <th>1997</th>\n",
       "      <th>1998</th>\n",
       "      <th>...</th>\n",
       "      <th>2000</th>\n",
       "      <th>2001</th>\n",
       "      <th>2002</th>\n",
       "      <th>2003</th>\n",
       "      <th>2004</th>\n",
       "      <th>2005</th>\n",
       "      <th>2006</th>\n",
       "      <th>2007</th>\n",
       "      <th>K-Mean Cluster Number</th>\n",
       "      <th>Hierarchical Cluster Number</th>\n",
       "    </tr>\n",
       "  </thead>\n",
       "  <tbody>\n",
       "    <tr>\n",
       "      <th>0</th>\n",
       "      <td>Afghanistan</td>\n",
       "      <td>436</td>\n",
       "      <td>429</td>\n",
       "      <td>422</td>\n",
       "      <td>415</td>\n",
       "      <td>407</td>\n",
       "      <td>397</td>\n",
       "      <td>397</td>\n",
       "      <td>387</td>\n",
       "      <td>374</td>\n",
       "      <td>...</td>\n",
       "      <td>346</td>\n",
       "      <td>326</td>\n",
       "      <td>304</td>\n",
       "      <td>308</td>\n",
       "      <td>283</td>\n",
       "      <td>267</td>\n",
       "      <td>251</td>\n",
       "      <td>238</td>\n",
       "      <td>2</td>\n",
       "      <td>0</td>\n",
       "    </tr>\n",
       "    <tr>\n",
       "      <th>1</th>\n",
       "      <td>Albania</td>\n",
       "      <td>42</td>\n",
       "      <td>40</td>\n",
       "      <td>41</td>\n",
       "      <td>42</td>\n",
       "      <td>42</td>\n",
       "      <td>43</td>\n",
       "      <td>42</td>\n",
       "      <td>44</td>\n",
       "      <td>43</td>\n",
       "      <td>...</td>\n",
       "      <td>40</td>\n",
       "      <td>34</td>\n",
       "      <td>32</td>\n",
       "      <td>32</td>\n",
       "      <td>29</td>\n",
       "      <td>29</td>\n",
       "      <td>26</td>\n",
       "      <td>22</td>\n",
       "      <td>0</td>\n",
       "      <td>1</td>\n",
       "    </tr>\n",
       "    <tr>\n",
       "      <th>2</th>\n",
       "      <td>Algeria</td>\n",
       "      <td>45</td>\n",
       "      <td>44</td>\n",
       "      <td>44</td>\n",
       "      <td>43</td>\n",
       "      <td>43</td>\n",
       "      <td>42</td>\n",
       "      <td>43</td>\n",
       "      <td>44</td>\n",
       "      <td>45</td>\n",
       "      <td>...</td>\n",
       "      <td>48</td>\n",
       "      <td>49</td>\n",
       "      <td>50</td>\n",
       "      <td>51</td>\n",
       "      <td>52</td>\n",
       "      <td>53</td>\n",
       "      <td>55</td>\n",
       "      <td>56</td>\n",
       "      <td>0</td>\n",
       "      <td>1</td>\n",
       "    </tr>\n",
       "    <tr>\n",
       "      <th>3</th>\n",
       "      <td>American Samoa</td>\n",
       "      <td>42</td>\n",
       "      <td>14</td>\n",
       "      <td>4</td>\n",
       "      <td>18</td>\n",
       "      <td>17</td>\n",
       "      <td>22</td>\n",
       "      <td>0</td>\n",
       "      <td>25</td>\n",
       "      <td>12</td>\n",
       "      <td>...</td>\n",
       "      <td>8</td>\n",
       "      <td>6</td>\n",
       "      <td>5</td>\n",
       "      <td>6</td>\n",
       "      <td>9</td>\n",
       "      <td>11</td>\n",
       "      <td>9</td>\n",
       "      <td>5</td>\n",
       "      <td>0</td>\n",
       "      <td>1</td>\n",
       "    </tr>\n",
       "    <tr>\n",
       "      <th>4</th>\n",
       "      <td>Andorra</td>\n",
       "      <td>39</td>\n",
       "      <td>37</td>\n",
       "      <td>35</td>\n",
       "      <td>33</td>\n",
       "      <td>32</td>\n",
       "      <td>30</td>\n",
       "      <td>28</td>\n",
       "      <td>23</td>\n",
       "      <td>24</td>\n",
       "      <td>...</td>\n",
       "      <td>20</td>\n",
       "      <td>20</td>\n",
       "      <td>21</td>\n",
       "      <td>18</td>\n",
       "      <td>19</td>\n",
       "      <td>18</td>\n",
       "      <td>17</td>\n",
       "      <td>19</td>\n",
       "      <td>0</td>\n",
       "      <td>1</td>\n",
       "    </tr>\n",
       "  </tbody>\n",
       "</table>\n",
       "<p>5 rows × 21 columns</p>\n",
       "</div>"
      ],
      "text/plain": [
       "          Country  1990  1991  1992  1993  1994  1995  1996  1997  1998  ...  \\\n",
       "0     Afghanistan   436   429   422   415   407   397   397   387   374  ...   \n",
       "1         Albania    42    40    41    42    42    43    42    44    43  ...   \n",
       "2         Algeria    45    44    44    43    43    42    43    44    45  ...   \n",
       "3  American Samoa    42    14     4    18    17    22     0    25    12  ...   \n",
       "4         Andorra    39    37    35    33    32    30    28    23    24  ...   \n",
       "\n",
       "   2000  2001  2002  2003  2004  2005  2006  2007  K-Mean Cluster Number  \\\n",
       "0   346   326   304   308   283   267   251   238                      2   \n",
       "1    40    34    32    32    29    29    26    22                      0   \n",
       "2    48    49    50    51    52    53    55    56                      0   \n",
       "3     8     6     5     6     9    11     9     5                      0   \n",
       "4    20    20    21    18    19    18    17    19                      0   \n",
       "\n",
       "   Hierarchical Cluster Number  \n",
       "0                            0  \n",
       "1                            1  \n",
       "2                            1  \n",
       "3                            1  \n",
       "4                            1  \n",
       "\n",
       "[5 rows x 21 columns]"
      ]
     },
     "execution_count": 241,
     "metadata": {},
     "output_type": "execute_result"
    }
   ],
   "source": [
    "dataset.head()"
   ]
  },
  {
   "cell_type": "code",
   "execution_count": 242,
   "metadata": {},
   "outputs": [
    {
     "data": {
      "text/plain": [
       "<matplotlib.collections.PathCollection at 0x1a2ab92710>"
      ]
     },
     "execution_count": 242,
     "metadata": {},
     "output_type": "execute_result"
    },
    {
     "data": {
      "image/png": "[encoded data removed]",
      "text/plain": [
       "<Figure size 432x288 with 1 Axes>"
      ]
     },
     "metadata": {
      "needs_background": "light"
     },
     "output_type": "display_data"
    }
   ],
   "source": [
    "plt.scatter(x[y_hc==0,0], x[y_hc==0,1], s=100, c='red', label='Cluster1')\n",
    "plt.scatter(x[y_hc==1,0], x[y_hc==1,1], s=100, c='blue', label='Cluster2')"
   ]
  },
  {
   "cell_type": "code",
   "execution_count": null,
   "metadata": {},
   "outputs": [],
   "source": []
  }
 ],
 "metadata": {
  "kernelspec": {
   "display_name": "Python 3",
   "language": "python",
   "name": "python3"
  },
  "language_info": {
   "codemirror_mode": {
    "name": "ipython",
    "version": 3
   },
   "file_extension": ".py",
   "mimetype": "text/x-python",
   "name": "python",
   "nbconvert_exporter": "python",
   "pygments_lexer": "ipython3",
   "version": "3.7.3"
  }
 },
 "nbformat": 4,
 "nbformat_minor": 2
}
