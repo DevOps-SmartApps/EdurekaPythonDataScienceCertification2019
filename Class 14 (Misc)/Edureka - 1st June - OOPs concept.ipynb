{
 "cells": [
  {
   "cell_type": "code",
   "execution_count": 2,
   "metadata": {},
   "outputs": [],
   "source": [
    "class Animal:\n",
    "    def speak(self):\n",
    "        print('Animal Speaking')\n",
    "\n",
    "class Dog(Animal):\n",
    "    def bark(self):\n",
    "        print('Dog is barking')\n",
    "    \n",
    "class Dogchild(Dog):\n",
    "    def eat(self):\n",
    "        print('Eating bread')\n",
    "d = Dogchild()"
   ]
  },
  {
   "cell_type": "code",
   "execution_count": 5,
   "metadata": {},
   "outputs": [
    {
     "name": "stdout",
     "output_type": "stream",
     "text": [
      "Dog is barking\n",
      "Animal Speaking\n",
      "Eating bread\n"
     ]
    }
   ],
   "source": [
    "d.bark()\n",
    "d.speak()\n",
    "d.eat()"
   ]
  },
  {
   "cell_type": "code",
   "execution_count": 6,
   "metadata": {},
   "outputs": [],
   "source": [
    "class calculation1:\n",
    "    def addition(self, a,b):\n",
    "        return a+b;\n",
    "class calculation2:\n",
    "    def multiply(self, a,b):\n",
    "        return a*b;\n",
    "class Derived(calculation1,calculation2):\n",
    "    def Divide(self, a,b):\n",
    "        return a/b;\n",
    "d=Derived()"
   ]
  },
  {
   "cell_type": "code",
   "execution_count": 9,
   "metadata": {},
   "outputs": [
    {
     "data": {
      "text/plain": [
       "0.6666666666666666"
      ]
     },
     "execution_count": 9,
     "metadata": {},
     "output_type": "execute_result"
    }
   ],
   "source": [
    "d.Divide(10,15)"
   ]
  }
 ],
 "metadata": {
  "kernelspec": {
   "display_name": "Python 3",
   "language": "python",
   "name": "python3"
  },
  "language_info": {
   "codemirror_mode": {
    "name": "ipython",
    "version": 3
   },
   "file_extension": ".py",
   "mimetype": "text/x-python",
   "name": "python",
   "nbconvert_exporter": "python",
   "pygments_lexer": "ipython3",
   "version": "3.6.8"
  }
 },
 "nbformat": 4,
 "nbformat_minor": 2
}
