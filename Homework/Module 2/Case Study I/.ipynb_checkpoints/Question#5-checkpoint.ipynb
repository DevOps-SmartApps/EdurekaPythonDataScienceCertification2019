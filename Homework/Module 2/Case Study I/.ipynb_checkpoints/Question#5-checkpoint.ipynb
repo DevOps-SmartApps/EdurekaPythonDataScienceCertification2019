{
 "cells": [
  {
   "cell_type": "code",
   "execution_count": 11,
   "metadata": {},
   "outputs": [
    {
     "name": "stdout",
     "output_type": "stream",
     "text": [
      "Enter a number: 1001\n",
      "It is a Palindrome number\n"
     ]
    }
   ],
   "source": [
    "n = input(\"Enter a number: \")\n",
    "\n",
    "n_r = n[::-1]\n",
    "\n",
    "if(n==n_r):\n",
    "    print(\"It is a Palindrome number\")\n",
    "else:\n",
    "   print(\"It is NOT a Palindrome number\")"
   ]
  }
 ],
 "metadata": {
  "kernelspec": {
   "display_name": "Python 3",
   "language": "python",
   "name": "python3"
  },
  "language_info": {
   "codemirror_mode": {
    "name": "ipython",
    "version": 3
   },
   "file_extension": ".py",
   "mimetype": "text/x-python",
   "name": "python",
   "nbconvert_exporter": "python",
   "pygments_lexer": "ipython3",
   "version": "3.7.3"
  }
 },
 "nbformat": 4,
 "nbformat_minor": 2
}
