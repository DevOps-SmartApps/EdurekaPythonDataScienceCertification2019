{
 "cells": [
  {
   "cell_type": "code",
   "execution_count": 20,
   "metadata": {},
   "outputs": [
    {
     "name": "stdout",
     "output_type": "stream",
     "text": [
      "Enter a numeber: 100\n",
      "Even Factors: [2, 4, 10, 20, 50]\n",
      "Odd Factors:  [1, 5, 25]\n"
     ]
    }
   ],
   "source": [
    "n = input(\"Enter a numeber: \")\n",
    "\n",
    "val = int(n)\n",
    "even_factors = []\n",
    "odd_factors = []\n",
    "\n",
    "for i in range(1,val):\n",
    "    if val%i==0:\n",
    "        #even\n",
    "        if i%2==0:\n",
    "            even_factors.append(i)\n",
    "        #odd\n",
    "        else:\n",
    "            odd_factors.append(i)\n",
    "        \n",
    "print(\"Even Factors:\", even_factors)\n",
    "print(\"Odd Factors: \", odd_factors)\n",
    "        "
   ]
  }
 ],
 "metadata": {
  "kernelspec": {
   "display_name": "Python 3",
   "language": "python",
   "name": "python3"
  },
  "language_info": {
   "codemirror_mode": {
    "name": "ipython",
    "version": 3
   },
   "file_extension": ".py",
   "mimetype": "text/x-python",
   "name": "python",
   "nbconvert_exporter": "python",
   "pygments_lexer": "ipython3",
   "version": "3.7.3"
  }
 },
 "nbformat": 4,
 "nbformat_minor": 2
}
