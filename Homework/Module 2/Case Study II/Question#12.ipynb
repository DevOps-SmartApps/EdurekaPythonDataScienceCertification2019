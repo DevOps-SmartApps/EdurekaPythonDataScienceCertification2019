{
 "cells": [
  {
   "cell_type": "code",
   "execution_count": 15,
   "metadata": {},
   "outputs": [
    {
     "name": "stdout",
     "output_type": "stream",
     "text": [
      "Enter some value for n: 5\n",
      "3.5500000000000003\n"
     ]
    }
   ],
   "source": [
    "n = input(\"Enter some value for n: \")\n",
    "val = int(n)\n",
    "\n",
    "compute = 0\n",
    "i=1\n",
    "\n",
    "while i <= val:\n",
    "    compute=compute+i/(i+1)\n",
    "    i=i+1\n",
    "print(compute)"
   ]
  }
 ],
 "metadata": {
  "kernelspec": {
   "display_name": "Python 3",
   "language": "python",
   "name": "python3"
  },
  "language_info": {
   "codemirror_mode": {
    "name": "ipython",
    "version": 3
   },
   "file_extension": ".py",
   "mimetype": "text/x-python",
   "name": "python",
   "nbconvert_exporter": "python",
   "pygments_lexer": "ipython3",
   "version": "3.7.3"
  }
 },
 "nbformat": 4,
 "nbformat_minor": 2
}
