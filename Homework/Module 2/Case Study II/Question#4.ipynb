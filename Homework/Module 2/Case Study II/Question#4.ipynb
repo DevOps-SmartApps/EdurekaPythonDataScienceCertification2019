{
 "cells": [
  {
   "cell_type": "code",
   "execution_count": 24,
   "metadata": {},
   "outputs": [
    {
     "name": "stdout",
     "output_type": "stream",
     "text": [
      "index | value\n",
      "0     | 4\n",
      "1     | 7\n",
      "2     | 3\n",
      "3     | 2\n",
      "4     | 5\n",
      "5     | 9\n"
     ]
    }
   ],
   "source": [
    "a = [4,7,3,2,5,9]\n",
    "print(\"index | value\")\n",
    "for i in range(len(a)):\n",
    "    print(i,\"    |\", a[i])"
   ]
  }
 ],
 "metadata": {
  "kernelspec": {
   "display_name": "Python 3",
   "language": "python",
   "name": "python3"
  },
  "language_info": {
   "codemirror_mode": {
    "name": "ipython",
    "version": 3
   },
   "file_extension": ".py",
   "mimetype": "text/x-python",
   "name": "python",
   "nbconvert_exporter": "python",
   "pygments_lexer": "ipython3",
   "version": "3.7.3"
  }
 },
 "nbformat": 4,
 "nbformat_minor": 2
}
