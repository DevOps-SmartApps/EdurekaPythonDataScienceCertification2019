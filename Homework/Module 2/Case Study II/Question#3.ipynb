{
 "cells": [
  {
   "cell_type": "code",
   "execution_count": 25,
   "metadata": {
    "scrolled": true
   },
   "outputs": [
    {
     "name": "stdout",
     "output_type": "stream",
     "text": [
      "Type in you password: Test\n",
      "Does not meet the criteria. Try Again!\n",
      "Type in you password: Test@12\n",
      "Meets the Criteria\n"
     ]
    }
   ],
   "source": [
    "number = ['0','1','2','3','4','5','6','7','8','9']\n",
    "special_character = ['&','#','@']\n",
    "Requirements = False\n",
    "\n",
    "while Requirements == False:\n",
    "    password = input(\"Type in you password: \")\n",
    "    \n",
    "    #Criteria Check\n",
    "    lower_case = any(pvalue.islower for pvalue in password)\n",
    "    upper_case = any(pvalue.isupper for pvalue in password)\n",
    "    check_number = any(pvalue in password for pvalue in number)\n",
    "    check_special = any(pvalue in password for pvalue in special_character)\n",
    "    if(len(password)>=6) or (len(password)<=12):\n",
    "         check_length = True\n",
    "    else:\n",
    "        check_length = False\n",
    "            \n",
    "    if(lower_case == True and upper_case == True and check_special == True and check_number == True and check_length == True):\n",
    "        Requirements = True\n",
    "    else:\n",
    "        print(\"Does not meet the criteria. Try Again!\")\n",
    "print(\"Meets the Criteria\")"
   ]
  }
 ],
 "metadata": {
  "kernelspec": {
   "display_name": "Python 3",
   "language": "python",
   "name": "python3"
  },
  "language_info": {
   "codemirror_mode": {
    "name": "ipython",
    "version": 3
   },
   "file_extension": ".py",
   "mimetype": "text/x-python",
   "name": "python",
   "nbconvert_exporter": "python",
   "pygments_lexer": "ipython3",
   "version": "3.7.3"
  }
 },
 "nbformat": 4,
 "nbformat_minor": 2
}
