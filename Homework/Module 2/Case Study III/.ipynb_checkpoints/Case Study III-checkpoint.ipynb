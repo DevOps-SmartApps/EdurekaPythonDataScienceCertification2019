{
 "cells": [
  {
   "cell_type": "code",
   "execution_count": 22,
   "metadata": {},
   "outputs": [
    {
     "name": "stdout",
     "output_type": "stream",
     "text": [
      "Enter your Social ID: saihajpreet\n",
      "Enter your Social ID: saihajpreetsi\\\n",
      "Enter your Social ID: saihajpreets\n",
      "Your reference ID is :  steersaihaj\n"
     ]
    }
   ],
   "source": [
    "critereia = False\n",
    "\n",
    "while critereia==False:\n",
    "    sID = input(\"Enter your Social ID: \")\n",
    "    \n",
    "    if(len(sID)==12):\n",
    "        critereia = True \n",
    "        rID = sID[-1:6:-1] + sID[0:6]\n",
    "        print(\"Your reference ID is : \",rID)"
   ]
  }
 ],
 "metadata": {
  "kernelspec": {
   "display_name": "Python 3",
   "language": "python",
   "name": "python3"
  },
  "language_info": {
   "codemirror_mode": {
    "name": "ipython",
    "version": 3
   },
   "file_extension": ".py",
   "mimetype": "text/x-python",
   "name": "python",
   "nbconvert_exporter": "python",
   "pygments_lexer": "ipython3",
   "version": "3.7.3"
  }
 },
 "nbformat": 4,
 "nbformat_minor": 2
}
